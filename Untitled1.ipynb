{
 "cells": [
  {
   "cell_type": "code",
   "execution_count": 1,
   "id": "b74e950b-d7ef-4ad2-9e2c-6389c83fec38",
   "metadata": {},
   "outputs": [],
   "source": [
    "from rdflib import Graph,Namespace"
   ]
  },
  {
   "cell_type": "code",
   "execution_count": 2,
   "id": "f2a744e6-1eb9-45c0-9517-7b65583de8e0",
   "metadata": {},
   "outputs": [],
   "source": [
    "g = Graph()"
   ]
  },
  {
   "cell_type": "code",
   "execution_count": 3,
   "id": "2789b7ec-c4ed-4273-9eb0-62dcfe515c65",
   "metadata": {},
   "outputs": [],
   "source": [
    "request = \"\"\"\n",
    "PREFIX dc: <http://purl.org/dc/elements/1.1/>\n",
    "INSERT DATA {\n",
    "    <http://example/book1> dc:title \"A new book\" .\n",
    "}\n",
    "\"\"\""
   ]
  },
  {
   "cell_type": "code",
   "execution_count": 4,
   "id": "25e9618b-8161-4b4c-941c-529403d596ee",
   "metadata": {},
   "outputs": [],
   "source": [
    "g.update(request)"
   ]
  },
  {
   "cell_type": "code",
   "execution_count": 5,
   "id": "b4662024-d2b6-4750-9f1c-03de9c16b6af",
   "metadata": {},
   "outputs": [],
   "source": [
    "dump = \"\"\"\n",
    "SELECT * WHERE {\n",
    "    ?x ?y ?z\n",
    "}\n",
    "\"\"\""
   ]
  },
  {
   "cell_type": "code",
   "execution_count": 6,
   "id": "3da9be94-9303-4bd6-8740-11802617c984",
   "metadata": {},
   "outputs": [],
   "source": [
    "qres = g.query(dump)"
   ]
  },
  {
   "cell_type": "code",
   "execution_count": 8,
   "id": "d44a5feb-d6d5-437b-a296-49be2ba7a276",
   "metadata": {},
   "outputs": [
    {
     "name": "stdout",
     "output_type": "stream",
     "text": [
      "(rdflib.term.URIRef('http://purl.org/dc/elements/1.1/title'), rdflib.term.URIRef('http://example/book1'), rdflib.term.Literal('A new book'))\n"
     ]
    }
   ],
   "source": [
    "for item in qres:\n",
    "    print(item)"
   ]
  },
  {
   "cell_type": "code",
   "execution_count": null,
   "id": "bdda9767-e281-4142-957e-54b7ae0f3d89",
   "metadata": {},
   "outputs": [],
   "source": []
  }
 ],
 "metadata": {
  "kernelspec": {
   "display_name": "projetfinal",
   "language": "python",
   "name": "projetfinal"
  },
  "language_info": {
   "codemirror_mode": {
    "name": "ipython",
    "version": 3
   },
   "file_extension": ".py",
   "mimetype": "text/x-python",
   "name": "python",
   "nbconvert_exporter": "python",
   "pygments_lexer": "ipython3",
   "version": "3.8.16"
  }
 },
 "nbformat": 4,
 "nbformat_minor": 5
}
